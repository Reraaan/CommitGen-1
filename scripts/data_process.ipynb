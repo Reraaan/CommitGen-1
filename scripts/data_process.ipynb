{
 "cells": [
  {
   "cell_type": "code",
   "execution_count": 1,
   "metadata": {},
   "outputs": [],
   "source": [
    "import pandas as pd\n",
    "import numpy as np\n",
    "import re\n",
    "import string"
   ]
  },
  {
   "cell_type": "code",
   "execution_count": 2,
   "metadata": {},
   "outputs": [
    {
     "data": {
      "text/plain": [
       "'df1 = pd.read_csv(\\'spring-framework.txt\\', sep=\"\\t\", header=None)\\ndf1.columns = [\"RevNo\", \"Rev\", \"Message\", \"Generated\"]\\n\\ndf2 = pd.read_csv(\\'spring-boot.txt\\', sep=\"\\t\", header=None)\\ndf2.columns = [\"RevNo\", \"Rev\", \"Message\", \"Generated\"]\\n\\ndf3 = pd.read_csv(\\'elasticsearch.txt\\', sep=\"\\t\", header=None)\\ndf3.columns = [\"RevNo\", \"Rev\", \"Message\", \"Generated\"]\\n\\ndf4 = pd.read_csv(\\'hadoop.txt\\', sep=\"\\t\", header=None)\\ndf4.columns = [\"RevNo\", \"Rev\", \"Message\", \"Generated\"]\\n\\ndf5 = pd.read_csv(\\'mockito.txt\\', sep=\"\\t\", header=None)\\ndf5.columns = [\"RevNo\", \"Rev\", \"Message\", \"Generated\"]\\n\\ndata = pd.concat([df1, df2, df3, df4, df5], axis=0)'"
      ]
     },
     "execution_count": 2,
     "metadata": {},
     "output_type": "execute_result"
    }
   ],
   "source": [
    "'''df1 = pd.read_csv('spring-framework.txt', sep=\"\\t\", header=None)\n",
    "df1.columns = [\"RevNo\", \"Rev\", \"Message\", \"Generated\"]\n",
    "\n",
    "df2 = pd.read_csv('spring-boot.txt', sep=\"\\t\", header=None)\n",
    "df2.columns = [\"RevNo\", \"Rev\", \"Message\", \"Generated\"]\n",
    "\n",
    "df3 = pd.read_csv('elasticsearch.txt', sep=\"\\t\", header=None)\n",
    "df3.columns = [\"RevNo\", \"Rev\", \"Message\", \"Generated\"]\n",
    "\n",
    "df4 = pd.read_csv('hadoop.txt', sep=\"\\t\", header=None)\n",
    "df4.columns = [\"RevNo\", \"Rev\", \"Message\", \"Generated\"]\n",
    "\n",
    "df5 = pd.read_csv('mockito.txt', sep=\"\\t\", header=None)\n",
    "df5.columns = [\"RevNo\", \"Rev\", \"Message\", \"Generated\"]\n",
    "\n",
    "data = pd.concat([df1, df2, df3, df4, df5], axis=0)'''"
   ]
  },
  {
   "cell_type": "code",
   "execution_count": 19,
   "metadata": {},
   "outputs": [
    {
     "name": "stdout",
     "output_type": "stream",
     "text": [
      "1567\n"
     ]
    }
   ],
   "source": [
    "data = pd.read_csv('slf4j/slf4j.txt', sep='\\t', header=None)\n",
    "data.columns = [\"RevNo\", \"PrevRev\", \"Rev\", \"Message\", \"Generated\"]\n",
    "\n",
    "print(len(data))\n",
    "\n",
    "#remove empty string\n",
    "data = data[data['Generated'] != '']\n",
    "data = data[data['Message'] != '']\n",
    "\n",
    "#remove NaN values\n",
    "data = data[pd.notnull(data['Generated'])]\n",
    "data = data[pd.notnull(data['Message'])]\n",
    "\n",
    "#Remove merge commit and 'discarded' generated message\n",
    "data.loc[:,'Message'] = data['Message'].apply(lambda x: '' if x.startswith(\"Merge\") else x)\n",
    "data.loc[:,'Generated'] = data['Generated'].apply(lambda x: '' if x.startswith(\"Discarded\") else x)\n",
    "\n",
    "#remove special characters\n",
    "#data.loc[:,'Generated'] = data['Generated'].apply(lambda x: re.sub(r\"[^a-zA-Z0-9]+\", ' ', x))\n",
    "#data.loc[:,'Message'] = data['Message'].apply(lambda x: re.sub(r\"[^a-zA-Z0-9]+\", ' ', x))\n",
    "\n",
    "#remove digits\n",
    "#data.loc[:,'Generated'] = data['Generated'].apply(lambda x: x.translate(None, string.digits))\n",
    "#data.loc[:,'Message'] = data['Message'].apply(lambda x: x.translate(None, string.digits))\n",
    "\n",
    "#split camel case words\n",
    "#data.loc[:,'Message'] = data['Message'].apply(lambda x: \" \".join(m.group(0) for m in re.finditer('.+?(?:(?<=[a-z])(?=[A-Z])|(?<=[A-Z])(?=[A-Z][a-z])|$)', x)))\n",
    "#data.loc[:,'Generated'] = data['Generated'].apply(lambda x: \" \".join(m.group(0) for m in re.finditer('.+?(?:(?<=[a-z])(?=[A-Z])|(?<=[A-Z])(?=[A-Z][a-z])|$)', x)))\n",
    "\n",
    "#remove small commit messages and long generated messages\n",
    "data.loc[:,'Message'] = data['Message'].apply(lambda x: '' if len(x.split(\" \")) < 3 else x)\n",
    "data.loc[:,'Generated'] = data['Generated'].apply(lambda x: '' if len(x.split(\" \")) > 300 else x)\n",
    "\n",
    "#again check empty and NaN values\n",
    "data = data[pd.notnull(data['Generated'])]\n",
    "data = data[data['Generated'] != '']\n",
    "data = data[pd.notnull(data['Message'])]\n",
    "data = data[data['Message'] != '']\n",
    "\n",
    "#make two new columns \n",
    "#data.loc[:,'Ori'] = data['Message'].apply(lambda x: x.lower())\n",
    "#data.loc[:,'Gen'] = data['Generated'].apply(lambda x: x.lower())\n",
    "\n",
    "#make tokens of the newly generated columns and store in two addtional columns\n",
    "data.loc[:,'OriTok'] = data['Message'].apply(lambda x: [x.strip() for x in x.split(\" \")])\n",
    "data.loc[:,'GenTok'] = data['Generated'].apply(lambda x: [x.strip() for x in x.split(\" \")])"
   ]
  },
  {
   "cell_type": "code",
   "execution_count": 20,
   "metadata": {},
   "outputs": [
    {
     "data": {
      "text/plain": [
       "435"
      ]
     },
     "execution_count": 20,
     "metadata": {},
     "output_type": "execute_result"
    }
   ],
   "source": [
    "len(data)"
   ]
  },
  {
   "cell_type": "code",
   "execution_count": 16,
   "metadata": {},
   "outputs": [],
   "source": [
    "oriVocab = set()\n",
    "genVocab = set()\n",
    "for index, row in data.iterrows():\n",
    "    oriVocab.update(row['OriTok'])\n",
    "    genVocab.update(row['GenTok'])"
   ]
  },
  {
   "cell_type": "code",
   "execution_count": 17,
   "metadata": {},
   "outputs": [],
   "source": [
    "file1 = file('spring-framework/vocab.ori', 'w')\n",
    "file2 = file('spring-framework/vocab.gen', 'w')\n",
    "\n",
    "for item in list(oriVocab):\n",
    "    if len(item) <= 2:\n",
    "        continue\n",
    "    file1.write(item)\n",
    "    file1.write('\\n')\n",
    "    \n",
    "for item in list(genVocab):\n",
    "    if len(item) <= 2:\n",
    "        continue\n",
    "    file2.write(item)\n",
    "    file2.write('\\n')\n",
    "\n",
    "file1.close()\n",
    "file2.close()"
   ]
  },
  {
   "cell_type": "code",
   "execution_count": 22,
   "metadata": {},
   "outputs": [],
   "source": [
    "total = len(data)\n",
    "n = int(total * 0.8)\n",
    "m = total - n\n",
    "train_data = data.head(n)\n",
    "test_data = data.tail(m)"
   ]
  },
  {
   "cell_type": "code",
   "execution_count": 23,
   "metadata": {},
   "outputs": [
    {
     "data": {
      "text/plain": [
       "3313"
      ]
     },
     "execution_count": 23,
     "metadata": {},
     "output_type": "execute_result"
    }
   ],
   "source": [
    "len(train_data)"
   ]
  },
  {
   "cell_type": "code",
   "execution_count": 24,
   "metadata": {},
   "outputs": [
    {
     "data": {
      "text/plain": [
       "829"
      ]
     },
     "execution_count": 24,
     "metadata": {},
     "output_type": "execute_result"
    }
   ],
   "source": [
    "len(test_data)"
   ]
  },
  {
   "cell_type": "code",
   "execution_count": 25,
   "metadata": {},
   "outputs": [],
   "source": [
    "train_data['Message'].to_csv('spring-framework/train.ori', sep='\\n', index=False, header=False)\n",
    "train_data['Generated'].to_csv('spring-framework/train.gen', sep='\\n', index=False, header=False)"
   ]
  },
  {
   "cell_type": "code",
   "execution_count": 26,
   "metadata": {},
   "outputs": [],
   "source": [
    "test_data['Message'].to_csv('spring-framework/test.ori', sep='\\n', index=False, header=False)\n",
    "test_data['Generated'].to_csv('spring-framework/test.gen', sep='\\n', index=False, header=False)\n",
    "\n",
    "test_data['Message'].to_csv('spring-framework/validation.ori', sep='\\n', index=False, header=False)\n",
    "test_data['Generated'].to_csv('spring-framework/validation.gen', sep='\\n', index=False, header=False)"
   ]
  }
 ],
 "metadata": {
  "kernelspec": {
   "display_name": "Python 2",
   "language": "python",
   "name": "python2"
  },
  "language_info": {
   "codemirror_mode": {
    "name": "ipython",
    "version": 2
   },
   "file_extension": ".py",
   "mimetype": "text/x-python",
   "name": "python",
   "nbconvert_exporter": "python",
   "pygments_lexer": "ipython2",
   "version": "2.7.14"
  }
 },
 "nbformat": 4,
 "nbformat_minor": 2
}
