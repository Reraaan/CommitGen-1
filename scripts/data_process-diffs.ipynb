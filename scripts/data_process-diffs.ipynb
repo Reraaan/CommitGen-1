{
 "cells": [
  {
   "cell_type": "code",
   "execution_count": 52,
   "metadata": {},
   "outputs": [],
   "source": [
    "import pandas as pd\n",
    "import numpy as np\n",
    "import re\n",
    "import string\n",
    "import numpy as np\n",
    "import matplotlib.pyplot as plt\n",
    "from pylab import rcParams\n",
    "import json"
   ]
  },
  {
   "cell_type": "code",
   "execution_count": 51,
   "metadata": {},
   "outputs": [
    {
     "data": {
      "text/plain": [
       "4997"
      ]
     },
     "execution_count": 51,
     "metadata": {},
     "output_type": "execute_result"
    }
   ],
   "source": [
    "entries = dict()\n",
    "total_files = 1\n",
    "token_limit = 50\n",
    "filename = 'hadoop/hadoop'\n",
    "\n",
    "\n",
    "for i in range(total_files):\n",
    "    with open(filename + '-diffs-' + str(i) + '.txt') as f:\n",
    "        count = 0\n",
    "        is_rev = False\n",
    "        is_msg = False\n",
    "        is_diff = False\n",
    "        msg_tokens = list()\n",
    "        diff_tokens = list()\n",
    "        \n",
    "        revision = ''\n",
    "\n",
    "        for line in f:\n",
    "            #if count > 5:\n",
    "             #   break\n",
    "\n",
    "            if line == '\\n':\n",
    "                continue\n",
    "                \n",
    "            if 'revi####commit##gen####vt####se###spring####2018' in line:\n",
    "                \n",
    "                if is_diff == True:\n",
    "                    entries[count] = (revision, len(msg_tokens), len(diff_tokens))\n",
    "                    #print(revision, len(msg_tokens), len(diff_tokens))\n",
    "\n",
    "                    msg_tokens = list()\n",
    "                    diff_tokens = list()\n",
    "                    revision = ''\n",
    "                    \n",
    "                    count += 1\n",
    "                \n",
    "                is_rev = True\n",
    "                is_msg = False\n",
    "                is_diff = False\n",
    "\n",
    "                continue\n",
    "            \n",
    "            if 'comm####commit##gen####vt####se###spring####2018' in line:\n",
    "                is_rev = False\n",
    "                is_msg = True\n",
    "                is_diff = False\n",
    "                continue\n",
    "\n",
    "            if 'diff####commit##gen####vt####se###spring####2018' in line:\n",
    "                is_rev = False\n",
    "                is_msg = False\n",
    "                is_diff = True\n",
    "                continue\n",
    "                \n",
    "\n",
    "            if is_rev == True:\n",
    "                revision = line.strip()\n",
    "            elif is_msg == True:\n",
    "                msg_tokens.extend(re.findall(r\"[^,.:;' ]+|[,.:;']\", line.strip()))\n",
    "            else:\n",
    "                diff_tokens.extend(re.findall(r\"[^,.:;' ]+|[,.:;']\", line.strip()))\n",
    "\n",
    "with open(filename + '-tokens.txt', 'w') as file:\n",
    "    file.write(json.dumps(entries)) # use `json.loads` to do the reverse"
   ]
  },
  {
   "cell_type": "code",
   "execution_count": 54,
   "metadata": {},
   "outputs": [],
   "source": []
  },
  {
   "cell_type": "code",
   "execution_count": 59,
   "metadata": {},
   "outputs": [
    {
     "name": "stdout",
     "output_type": "stream",
     "text": [
      "[u'cab0a4bf543f58600ae8499f5b219a452f89c827', 5, 193640]\n"
     ]
    }
   ],
   "source": [
    "with open(filename + '-tokens.txt') as json_data:\n",
    "    d = json.load(json_data)\n",
    "    print(d['1'])"
   ]
  },
  {
   "cell_type": "code",
   "execution_count": null,
   "metadata": {},
   "outputs": [],
   "source": [
    "x = list()\n",
    "y = list()\n",
    "z = list()\n",
    "for key, value in entries.iteritems():\n",
    "    #if key > 10:\n",
    "       # break\n",
    "    if value[0] < 1 or value[0] > 500 or value[1] < 1 or value[1] > 1000:\n",
    "        continue\n",
    "    x.append(key)\n",
    "    y.append(value[0])\n",
    "    z.append(value[1])"
   ]
  },
  {
   "cell_type": "code",
   "execution_count": null,
   "metadata": {},
   "outputs": [],
   "source": [
    "len(y)"
   ]
  },
  {
   "cell_type": "code",
   "execution_count": null,
   "metadata": {},
   "outputs": [],
   "source": [
    "# red dashes, blue squares and green triangles\n",
    "#plt.plot(x, y, 'bs', x, z, 'g^')\n",
    "\n",
    "rcParams['figure.figsize'] = 10,10\n",
    "plt.figure()\n",
    "plt.boxplot(y, 0, 'gD', 0)\n",
    "plt.show()"
   ]
  },
  {
   "cell_type": "code",
   "execution_count": null,
   "metadata": {},
   "outputs": [],
   "source": [
    "total = 0\n",
    "for item in z:\n",
    "    total += item\n",
    "total/ len(z)"
   ]
  },
  {
   "cell_type": "code",
   "execution_count": null,
   "metadata": {},
   "outputs": [],
   "source": [
    "# red dashes, blue squares and green triangles\n",
    "#plt.plot(x, y, 'bs', x, z, 'g^')\n",
    "rcParams['figure.figsize'] = 10,10\n",
    "plt.figure()\n",
    "plt.boxplot(z, 0, 'gD', 0)\n",
    "plt.show()"
   ]
  },
  {
   "cell_type": "code",
   "execution_count": 15,
   "metadata": {},
   "outputs": [
    {
     "data": {
      "text/plain": [
       "['I', 'want', 'that', 'one', ',', 'it', 'is', 'great', '.']"
      ]
     },
     "execution_count": 15,
     "metadata": {},
     "output_type": "execute_result"
    }
   ],
   "source": [
    "if '####commit##gen####vt####se###spring####2018' in line:\n",
    "            if is_msg == False:\n",
    "                print(msg_tokens)\n",
    "                print(diff_tokens)\n",
    "                msg_tokens = list()\n",
    "                diff_tokens = list()\n",
    "                count += 1\n",
    "\n",
    "            is_msg ^= is_msg\n",
    "            line = diffs.readline()\n",
    "            continue\n",
    "        \n",
    "        #print(line)\n",
    "        if is_msg == True:\n",
    "            msg_tokens.extend(re.findall(r\"[^,.:;' ]+|[,.:;']\", line.strip()))\n",
    "        else:\n",
    "            diff_tokens.extend(re.findall(r\"[^,.:;' ]+|[,.:;']\", line.strip()))       \n",
    "            \n",
    "        line = diffs.readline()"
   ]
  },
  {
   "cell_type": "code",
   "execution_count": 20,
   "metadata": {},
   "outputs": [],
   "source": [
    "data = pd.read_csv('spring-framework/spring-framework.txt', sep='\\t', header=None)\n",
    "data.columns = [\"RevNo\", \"PrevRev\", \"Rev\", \"Message\", \"Generated\"]\n",
    "\n",
    "#remove empty string\n",
    "data = data[data['Generated'] != '']\n",
    "data = data[data['Message'] != '']\n",
    "\n",
    "#remove NaN values\n",
    "data = data[pd.notnull(data['Generated'])]\n",
    "data = data[pd.notnull(data['Message'])]\n",
    "\n",
    "#Remove merge commit and 'discarded' generated message\n",
    "data.loc[:,'Message'] = data['Message'].apply(lambda x: '' if x.startswith(\"Merge\") else x)\n",
    "data.loc[:,'Generated'] = data['Generated'].apply(lambda x: '' if x.startswith(\"Discarded\") else x)\n",
    "\n",
    "#remove special characters\n",
    "#data.loc[:,'Generated'] = data['Generated'].apply(lambda x: re.sub(r\"[^a-zA-Z0-9]+\", ' ', x))\n",
    "#data.loc[:,'Message'] = data['Message'].apply(lambda x: re.sub(r\"[^a-zA-Z0-9]+\", ' ', x))\n",
    "\n",
    "#remove digits\n",
    "#data.loc[:,'Generated'] = data['Generated'].apply(lambda x: x.translate(None, string.digits))\n",
    "#data.loc[:,'Message'] = data['Message'].apply(lambda x: x.translate(None, string.digits))\n",
    "\n",
    "#split camel case words\n",
    "#data.loc[:,'Message'] = data['Message'].apply(lambda x: \" \".join(m.group(0) for m in re.finditer('.+?(?:(?<=[a-z])(?=[A-Z])|(?<=[A-Z])(?=[A-Z][a-z])|$)', x)))\n",
    "#data.loc[:,'Generated'] = data['Generated'].apply(lambda x: \" \".join(m.group(0) for m in re.finditer('.+?(?:(?<=[a-z])(?=[A-Z])|(?<=[A-Z])(?=[A-Z][a-z])|$)', x)))\n",
    "\n",
    "#remove small commit messages and long generated messages\n",
    "data.loc[:,'Message'] = data['Message'].apply(lambda x: '' if len(x) < 15 else x)\n",
    "data.loc[:,'Generated'] = data['Generated'].apply(lambda x: '' if len(x) > 400 else x)\n",
    "\n",
    "#again check empty and NaN values\n",
    "data = data[pd.notnull(data['Generated'])]\n",
    "data = data[data['Generated'] != '']\n",
    "data = data[pd.notnull(data['Message'])]\n",
    "data = data[data['Message'] != '']\n",
    "\n",
    "#make two new columns \n",
    "#data.loc[:,'Ori'] = data['Message'].apply(lambda x: x.lower())\n",
    "#data.loc[:,'Gen'] = data['Generated'].apply(lambda x: x.lower())\n",
    "\n",
    "#make tokens of the newly generated columns and store in two addtional columns\n",
    "data.loc[:,'OriTok'] = data['Message'].apply(lambda x: [x.strip() for x in x.split(\" \")])\n",
    "data.loc[:,'GenTok'] = data['Generated'].apply(lambda x: [x.strip() for x in x.split(\" \")])"
   ]
  },
  {
   "cell_type": "code",
   "execution_count": null,
   "metadata": {},
   "outputs": [],
   "source": []
  },
  {
   "cell_type": "code",
   "execution_count": 21,
   "metadata": {},
   "outputs": [
    {
     "data": {
      "text/plain": [
       "4142"
      ]
     },
     "execution_count": 21,
     "metadata": {},
     "output_type": "execute_result"
    }
   ],
   "source": [
    "len(data)"
   ]
  },
  {
   "cell_type": "code",
   "execution_count": 16,
   "metadata": {},
   "outputs": [],
   "source": [
    "oriVocab = set()\n",
    "genVocab = set()\n",
    "for index, row in data.iterrows():\n",
    "    oriVocab.update(row['OriTok'])\n",
    "    genVocab.update(row['GenTok'])"
   ]
  },
  {
   "cell_type": "code",
   "execution_count": 17,
   "metadata": {},
   "outputs": [],
   "source": [
    "file1 = file('spring-framework/vocab.ori', 'w')\n",
    "file2 = file('spring-framework/vocab.gen', 'w')\n",
    "\n",
    "for item in list(oriVocab):\n",
    "    if len(item) <= 2:\n",
    "        continue\n",
    "    file1.write(item)\n",
    "    file1.write('\\n')\n",
    "    \n",
    "for item in list(genVocab):\n",
    "    if len(item) <= 2:\n",
    "        continue\n",
    "    file2.write(item)\n",
    "    file2.write('\\n')\n",
    "\n",
    "file1.close()\n",
    "file2.close()"
   ]
  },
  {
   "cell_type": "code",
   "execution_count": 22,
   "metadata": {},
   "outputs": [],
   "source": [
    "total = len(data)\n",
    "n = int(total * 0.8)\n",
    "m = total - n\n",
    "train_data = data.head(n)\n",
    "test_data = data.tail(m)"
   ]
  },
  {
   "cell_type": "code",
   "execution_count": 23,
   "metadata": {},
   "outputs": [
    {
     "data": {
      "text/plain": [
       "3313"
      ]
     },
     "execution_count": 23,
     "metadata": {},
     "output_type": "execute_result"
    }
   ],
   "source": [
    "len(train_data)"
   ]
  },
  {
   "cell_type": "code",
   "execution_count": 24,
   "metadata": {},
   "outputs": [
    {
     "data": {
      "text/plain": [
       "829"
      ]
     },
     "execution_count": 24,
     "metadata": {},
     "output_type": "execute_result"
    }
   ],
   "source": [
    "len(test_data)"
   ]
  },
  {
   "cell_type": "code",
   "execution_count": 25,
   "metadata": {},
   "outputs": [],
   "source": [
    "train_data['Message'].to_csv('spring-framework/train.ori', sep='\\n', index=False, header=False)\n",
    "train_data['Generated'].to_csv('spring-framework/train.gen', sep='\\n', index=False, header=False)"
   ]
  },
  {
   "cell_type": "code",
   "execution_count": 26,
   "metadata": {},
   "outputs": [],
   "source": [
    "test_data['Message'].to_csv('spring-framework/test.ori', sep='\\n', index=False, header=False)\n",
    "test_data['Generated'].to_csv('spring-framework/test.gen', sep='\\n', index=False, header=False)\n",
    "\n",
    "test_data['Message'].to_csv('spring-framework/validation.ori', sep='\\n', index=False, header=False)\n",
    "test_data['Generated'].to_csv('spring-framework/validation.gen', sep='\\n', index=False, header=False)"
   ]
  }
 ],
 "metadata": {
  "kernelspec": {
   "display_name": "Python 2",
   "language": "python",
   "name": "python2"
  },
  "language_info": {
   "codemirror_mode": {
    "name": "ipython",
    "version": 2
   },
   "file_extension": ".py",
   "mimetype": "text/x-python",
   "name": "python",
   "nbconvert_exporter": "python",
   "pygments_lexer": "ipython2",
   "version": "2.7.14"
  }
 },
 "nbformat": 4,
 "nbformat_minor": 2
}
