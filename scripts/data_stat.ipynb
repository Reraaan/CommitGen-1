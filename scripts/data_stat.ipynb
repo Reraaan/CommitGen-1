{
 "cells": [
  {
   "cell_type": "code",
   "execution_count": 1,
   "metadata": {},
   "outputs": [],
   "source": [
    "import pandas as pd\n",
    "import numpy as np\n",
    "import re\n",
    "import string\n",
    "import numpy as np\n",
    "import matplotlib.pyplot as plt\n",
    "from pylab import rcParams\n",
    "import json\n",
    "\n",
    "from plotly import __version__\n",
    "from plotly.offline import download_plotlyjs, init_notebook_mode, plot, iplot\n",
    "\n",
    "\n",
    "from plotly.graph_objs import *"
   ]
  },
  {
   "cell_type": "code",
   "execution_count": 2,
   "metadata": {},
   "outputs": [],
   "source": [
    "#filename = 'elasticsearch/elasticsearch'\n",
    "#filename = 'spring-framework/spring-framework'\n",
    "#filename = 'spring-boot/spring-boot'\n",
    "filename = 'hadoop/hadoop'\n",
    "#filename = 'guava/guava'\n",
    "#filename = 'mockito/mockito'\n",
    "#filename = 'slf4j/slf4j'\n",
    "token_count = 200"
   ]
  },
  {
   "cell_type": "code",
   "execution_count": 3,
   "metadata": {},
   "outputs": [
    {
     "name": "stdout",
     "output_type": "stream",
     "text": [
      "19231\n",
      "14601\n"
     ]
    }
   ],
   "source": [
    "df = pd.read_json(filename + '-tokens.txt')\n",
    "df = df.transpose()\n",
    "df.columns = ['rev', 'Commit', 'Diff']\n",
    "print(len(df))\n",
    "df = df[df['Diff'] < 5000]\n",
    "print(len(df))"
   ]
  },
  {
   "cell_type": "code",
   "execution_count": 4,
   "metadata": {},
   "outputs": [
    {
     "data": {
      "text/plain": [
       "1020"
      ]
     },
     "execution_count": 4,
     "metadata": {},
     "output_type": "execute_result"
    }
   ],
   "source": [
    "df['Diff'].sum() / len(df)"
   ]
  },
  {
   "cell_type": "code",
   "execution_count": 5,
   "metadata": {},
   "outputs": [
    {
     "data": {
      "text/plain": [
       "15"
      ]
     },
     "execution_count": 5,
     "metadata": {},
     "output_type": "execute_result"
    }
   ],
   "source": [
    "df['Commit'].sum() / len(df)"
   ]
  },
  {
   "cell_type": "code",
   "execution_count": 6,
   "metadata": {},
   "outputs": [],
   "source": [
    "df1 = df[['Commit']]\n",
    "df2 = df[['Diff']]"
   ]
  },
  {
   "cell_type": "code",
   "execution_count": 16,
   "metadata": {},
   "outputs": [
    {
     "data": {
      "text/plain": [
       "'file:///home/salman/CS5704/Project/Preprocess/temp-plot.html'"
      ]
     },
     "execution_count": 16,
     "metadata": {},
     "output_type": "execute_result"
    }
   ],
   "source": [
    "plot([Box(x=df1['Commit'].tolist(), name='Commit', marker = dict(\n",
    "        color = '#FF4136',\n",
    "    ), boxmean=True)])"
   ]
  },
  {
   "cell_type": "code",
   "execution_count": 256,
   "metadata": {},
   "outputs": [
    {
     "data": {
      "text/plain": [
       "'file:///home/salman/CS5704/Project/Preprocess/temp-plot.html'"
      ]
     },
     "execution_count": 256,
     "metadata": {},
     "output_type": "execute_result"
    }
   ],
   "source": [
    "plot([Box(x=df2['Diff'].tolist(), name='Diff', marker = dict(\n",
    "        color = '#FF851B',\n",
    "    ), boxmean=True)])"
   ]
  },
  {
   "cell_type": "code",
   "execution_count": 11,
   "metadata": {},
   "outputs": [],
   "source": [
    "mymsg = 'HADOOP-10368. InputStream is not closed in VersionInfo ctor.  Contributed by Tsuyoshi OZAWA'"
   ]
  },
  {
   "cell_type": "code",
   "execution_count": 34,
   "metadata": {},
   "outputs": [
    {
     "data": {
      "text/plain": [
       "' InputStream is not closed in VersionInfo ctor.  Contributed by Tsuyoshi OZAWA'"
      ]
     },
     "execution_count": 34,
     "metadata": {},
     "output_type": "execute_result"
    }
   ],
   "source": [
    "def remwithre(text, there=re.compile(re.escape('HADOOP')+'.......')):\n",
    "    return there.sub('', text)\n",
    "\n",
    "remwithre(mymsg)"
   ]
  },
  {
   "cell_type": "code",
   "execution_count": 39,
   "metadata": {},
   "outputs": [
    {
     "data": {
      "text/plain": [
       "' InputStream is not closed in VersionInfo ctor.  '"
      ]
     },
     "execution_count": 39,
     "metadata": {},
     "output_type": "execute_result"
    }
   ],
   "source": [
    "\n",
    "re.compile(re.escape('Contributed')+'.*').sub('', re.compile(re.escape('HADOOP')+'.......').sub('', mymsg))\n",
    "#re.sub(r'HADOOP.*?.', '.', mymsg)"
   ]
  },
  {
   "cell_type": "code",
   "execution_count": 47,
   "metadata": {},
   "outputs": [
    {
     "name": "stdout",
     "output_type": "stream",
     "text": [
      "('length before preprocess', '19235')\n",
      "('length after preprocess', '11310')\n"
     ]
    }
   ],
   "source": [
    "data = pd.read_csv(filename + '.txt', sep='\\t', header=None)\n",
    "data.columns = [\"RevNo\", \"PrevRev\", \"Rev\", \"Message\", \"Generated\"]\n",
    "\n",
    "print('length before preprocess', str(len(data)))\n",
    "\n",
    "#remove empty string\n",
    "data = data[data['Generated'] != '']\n",
    "data = data[data['Message'] != '']\n",
    "\n",
    "#remove NaN values\n",
    "data = data[pd.notnull(data['Generated'])]\n",
    "data = data[pd.notnull(data['Message'])]\n",
    "\n",
    "#Remove merge commit and 'discarded' generated message\n",
    "data.loc[:,'Message'] = data['Message'].apply(lambda x: re.compile(re.escape('Merge')+'.*').sub('',x))\n",
    "data.loc[:,'Generated'] = data['Generated'].apply(lambda x: re.compile(re.escape('Discarded')+'.*').sub('', x))\n",
    "\n",
    "#specific to hadoop\n",
    "#data.loc[:,'Generated'] = data['Generated'].apply(lambda x: re.sub(r\"[^a-zA-Z0-9]+\", ' ', x))\n",
    "data.loc[:,'Message'] = data['Message'].apply(lambda x: re.compile(re.escape('Contributed')+'.*').sub('', re.compile(re.escape('HADOOP')+'.......').sub('', x)))\n",
    "data.loc[:,'Message'] = data['Message'].apply(lambda x: re.compile(re.escape('HDFS')+'.......').sub('', x))\n",
    "data.loc[:,'Message'] = data['Message'].apply(lambda x: re.compile(re.escape('YARN')+'.......').sub('', x))\n",
    "\n",
    "#remove special characters\n",
    "#data.loc[:,'Generated'] = data['Generated'].apply(lambda x: re.sub(r\"[^a-zA-Z0-9]+\", ' ', x))\n",
    "#data.loc[:,'Message'] = data['Message'].apply(lambda x: re.sub(r\"[^a-zA-Z0-9]+\", ' ', x))\n",
    "\n",
    "#remove digits\n",
    "#data.loc[:,'Generated'] = data['Generated'].apply(lambda x: x.translate(None, string.digits))\n",
    "#data.loc[:,'Message'] = data['Message'].apply(lambda x: x.translate(None, string.digits))\n",
    "\n",
    "#split camel case words\n",
    "#data.loc[:,'Message'] = data['Message'].apply(lambda x: \" \".join(m.group(0) for m in re.finditer('.+?(?:(?<=[a-z])(?=[A-Z])|(?<=[A-Z])(?=[A-Z][a-z])|$)', x)))\n",
    "#data.loc[:,'Generated'] = data['Generated'].apply(lambda x: \" \".join(m.group(0) for m in re.finditer('.+?(?:(?<=[a-z])(?=[A-Z])|(?<=[A-Z])(?=[A-Z][a-z])|$)', x)))\n",
    "\n",
    "#remove small commit messages and long generated messages\n",
    "#data.loc[:,'Message'] = data['Message'].apply(lambda x: '' if len(x) < 15 else x)\n",
    "#data.loc[:,'Generated'] = data['Generated'].apply(lambda x: '' if len(x) > 400 else x)\n",
    "\n",
    "#again check empty and NaN values\n",
    "data = data[pd.notnull(data['Generated'])]\n",
    "data = data[data['Generated'] != '']\n",
    "data = data[pd.notnull(data['Message'])]\n",
    "data = data[data['Message'] != '']\n",
    "\n",
    "#make two new columns \n",
    "#data.loc[:,'Ori'] = data['Message'].apply(lambda x: x.lower())\n",
    "#data.loc[:,'Gen'] = data['Generated'].apply(lambda x: x.lower())\n",
    "\n",
    "#make tokens of the newly generated columns and store in two addtional columns\n",
    "data.loc[:,'OriTok'] = data['Message'].apply(lambda x: [x.strip() for x in x.split(\" \")])\n",
    "data.loc[:,'GenTok'] = data['Generated'].apply(lambda x: [x.strip() for x in x.split(\" \")])\n",
    "\n",
    "print('length after preprocess', str(len(data)))"
   ]
  },
  {
   "cell_type": "code",
   "execution_count": 49,
   "metadata": {},
   "outputs": [
    {
     "data": {
      "text/plain": [
       "11310"
      ]
     },
     "execution_count": 49,
     "metadata": {},
     "output_type": "execute_result"
    }
   ],
   "source": [
    "len(data)"
   ]
  },
  {
   "cell_type": "code",
   "execution_count": 50,
   "metadata": {},
   "outputs": [
    {
     "data": {
      "text/plain": [
       "1643"
      ]
     },
     "execution_count": 50,
     "metadata": {},
     "output_type": "execute_result"
    }
   ],
   "source": [
    "indices = df[df['Diff'] <= token_count].rev.tolist()\n",
    "data_clean = data[data['Rev'].isin(indices)]\n",
    "len(data_clean)"
   ]
  },
  {
   "cell_type": "code",
   "execution_count": null,
   "metadata": {},
   "outputs": [],
   "source": []
  },
  {
   "cell_type": "code",
   "execution_count": 51,
   "metadata": {},
   "outputs": [
    {
     "name": "stdout",
     "output_type": "stream",
     "text": [
      "19136\n",
      "47193\n"
     ]
    }
   ],
   "source": [
    "oriVocab = set()\n",
    "genVocab = set()\n",
    "for index, row in data.iterrows():\n",
    "    oriVocab.update(row['OriTok'])\n",
    "    genVocab.update(row['GenTok'])\n",
    "\n",
    "print(len(oriVocab))\n",
    "print(len(genVocab))"
   ]
  },
  {
   "cell_type": "code",
   "execution_count": 52,
   "metadata": {},
   "outputs": [],
   "source": [
    "file1 = file(filename +'-vocab.ori', 'w')\n",
    "file2 = file(filename +'-vocab.gen', 'w')\n",
    "\n",
    "for item in list(oriVocab):\n",
    "    if len(item) <= 2:\n",
    "        continue\n",
    "    file1.write(item)\n",
    "    file1.write('\\n')\n",
    "    \n",
    "for item in list(genVocab):\n",
    "    if len(item) <= 2:\n",
    "        continue\n",
    "    file2.write(item)\n",
    "    file2.write('\\n')\n",
    "\n",
    "file1.close()\n",
    "file2.close()"
   ]
  },
  {
   "cell_type": "code",
   "execution_count": 53,
   "metadata": {},
   "outputs": [],
   "source": [
    "data_clean = data_clean.sample(frac=1).reset_index(drop=True)\n",
    "total = len(data_clean)\n",
    "n = int(total * 0.8)\n",
    "m = total - n\n",
    "train_data = data_clean.head(n)\n",
    "test_data = data_clean.tail(m)\n",
    "dev_data = test_data.tail(len(test_data) / 2)\n",
    "test_data = test_data.head(len(test_data) - len(dev_data))"
   ]
  },
  {
   "cell_type": "code",
   "execution_count": 54,
   "metadata": {},
   "outputs": [
    {
     "name": "stdout",
     "output_type": "stream",
     "text": [
      "1643\n",
      "1314\n",
      "164\n",
      "165\n"
     ]
    }
   ],
   "source": [
    "print(len(data_clean))\n",
    "print(len(train_data))\n",
    "print(len(dev_data))\n",
    "print(len(test_data))"
   ]
  },
  {
   "cell_type": "code",
   "execution_count": 55,
   "metadata": {},
   "outputs": [],
   "source": [
    "train_data['Message'].to_csv(filename + '-train.ori', sep='\\n', index=False, header=False)\n",
    "train_data['Generated'].to_csv(filename + '-train.gen', sep='\\n', index=False, header=False)\n",
    "\n",
    "test_data['Message'].to_csv(filename + '-test.ori', sep='\\n', index=False, header=False)\n",
    "test_data['Generated'].to_csv(filename + '-test.gen', sep='\\n', index=False, header=False)\n",
    "\n",
    "dev_data['Message'].to_csv(filename + '-validation.ori', sep='\\n', index=False, header=False)\n",
    "dev_data['Generated'].to_csv(filename + '-validation.gen', sep='\\n', index=False, header=False)"
   ]
  },
  {
   "cell_type": "code",
   "execution_count": null,
   "metadata": {},
   "outputs": [],
   "source": [
    "#df = pd.DataFrame(np.random.rand(10, 1), columns=['A'])\n",
    "color = dict(boxes='DarkGreen', whiskers='DarkOrange', medians='DarkBlue', caps='Gray')\n",
    "df1.plot.box(vert=False, positions=[1], color=color, sym='r+')\n",
    "plt.savefig(filename + '-diff-box1.png', dpi=300)\n",
    "\n",
    "#df = pd.DataFrame(np.random.rand(10, 1), columns=['A'])\n",
    "color = dict(boxes='DarkGreen', whiskers='DarkOrange', medians='DarkBlue', caps='Gray')\n",
    "df2.plot.box(vert=False, positions=[1], color=color, sym='r+')\n",
    "plt.savefig(filename + '-diff-box2.png', dpi=300)"
   ]
  }
 ],
 "metadata": {
  "kernelspec": {
   "display_name": "Python 2",
   "language": "python",
   "name": "python2"
  },
  "language_info": {
   "codemirror_mode": {
    "name": "ipython",
    "version": 2
   },
   "file_extension": ".py",
   "mimetype": "text/x-python",
   "name": "python",
   "nbconvert_exporter": "python",
   "pygments_lexer": "ipython2",
   "version": "2.7.14"
  }
 },
 "nbformat": 4,
 "nbformat_minor": 2
}
